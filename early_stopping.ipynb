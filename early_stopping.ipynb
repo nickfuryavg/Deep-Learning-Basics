{
  "cells": [
    {
      "cell_type": "markdown",
      "metadata": {
        "id": "view-in-github",
        "colab_type": "text"
      },
      "source": [
        "<a href=\"https://colab.research.google.com/github/nickfuryavg/Deep-Learning-Basics/blob/main/early_stopping.ipynb\" target=\"_parent\"><img src=\"https://colab.research.google.com/assets/colab-badge.svg\" alt=\"Open In Colab\"/></a>"
      ]
    },
    {
      "cell_type": "code",
      "execution_count": null,
      "id": "76138765",
      "metadata": {
        "id": "76138765",
        "outputId": "e0c091f0-8282-4924-f33a-c5e8862cb24c"
      },
      "outputs": [
        {
          "name": "stdout",
          "output_type": "stream",
          "text": [
            "Epoch 1/50\n",
            "1500/1500 [==============================] - 1s 649us/step - loss: 0.2657 - accuracy: 0.9225 - val_loss: 0.1408 - val_accuracy: 0.9575\n",
            "Epoch 2/50\n",
            "1500/1500 [==============================] - 1s 583us/step - loss: 0.1091 - accuracy: 0.9668 - val_loss: 0.1156 - val_accuracy: 0.9657\n",
            "Epoch 3/50\n",
            "1500/1500 [==============================] - 1s 582us/step - loss: 0.0748 - accuracy: 0.9770 - val_loss: 0.1090 - val_accuracy: 0.9683\n",
            "Epoch 4/50\n",
            "1500/1500 [==============================] - 1s 577us/step - loss: 0.0569 - accuracy: 0.9818 - val_loss: 0.0908 - val_accuracy: 0.9728\n",
            "Epoch 5/50\n",
            "1500/1500 [==============================] - 1s 584us/step - loss: 0.0448 - accuracy: 0.9854 - val_loss: 0.1151 - val_accuracy: 0.9677\n",
            "Epoch 6/50\n",
            "1500/1500 [==============================] - 1s 595us/step - loss: 0.0362 - accuracy: 0.9881 - val_loss: 0.1157 - val_accuracy: 0.9693\n",
            "Epoch 7/50\n",
            "1500/1500 [==============================] - 1s 586us/step - loss: 0.0292 - accuracy: 0.9905 - val_loss: 0.1044 - val_accuracy: 0.9746\n",
            "Epoch 8/50\n",
            "1500/1500 [==============================] - 1s 632us/step - loss: 0.0258 - accuracy: 0.9915 - val_loss: 0.1165 - val_accuracy: 0.9708\n",
            "Epoch 9/50\n",
            "1474/1500 [============================>.] - ETA: 0s - loss: 0.0214 - accuracy: 0.9926Restoring model weights from the end of the best epoch: 4.\n",
            "1500/1500 [==============================] - 1s 589us/step - loss: 0.0215 - accuracy: 0.9925 - val_loss: 0.1249 - val_accuracy: 0.9710\n",
            "Epoch 9: early stopping\n",
            "313/313 [==============================] - 0s 328us/step - loss: 0.0765 - accuracy: 0.9753\n",
            "Test Accuracy: 0.9753000140190125\n"
          ]
        }
      ],
      "source": [
        "import numpy as np\n",
        "import tensorflow as tf\n",
        "from tensorflow.keras.datasets import mnist\n",
        "from tensorflow.keras.models import Sequential\n",
        "from tensorflow.keras.layers import Dense, Flatten\n",
        "from tensorflow.keras.callbacks import EarlyStopping\n",
        "from tensorflow.keras.utils import to_categorical\n",
        "\n",
        "# 1. Load the MNIST dataset\n",
        "(x_train, y_train), (x_test, y_test) = mnist.load_data()\n",
        "\n",
        "# 2. Preprocess the data\n",
        "# Normalize pixel values to be between 0 and 1\n",
        "x_train, x_test = x_train / 255.0, x_test / 255.0\n",
        "\n",
        "# Convert class vectors to binary class matrices (one-hot encoding)\n",
        "y_train = to_categorical(y_train, 10)\n",
        "y_test = to_categorical(y_test, 10)\n",
        "\n",
        "# 3. Build the model\n",
        "model = Sequential([\n",
        "    Flatten(input_shape=(28, 28)),\n",
        "    Dense(128, activation='relu'),\n",
        "    Dense(64, activation='relu'),\n",
        "    Dense(10, activation='softmax')\n",
        "])\n",
        "\n",
        "model.compile(optimizer='adam',\n",
        "              loss='categorical_crossentropy',\n",
        "              metrics=['accuracy'])\n",
        "\n",
        "# 4. Set up Early Stopping\n",
        "early_stopping = EarlyStopping(monitor='val_loss', patience=5, verbose=1, mode='min', restore_best_weights=True)\n",
        "\n",
        "# 5. Train the model\n",
        "history = model.fit(x_train, y_train, epochs=50, validation_split=0.2, callbacks=[early_stopping], verbose=1)\n",
        "\n",
        "# Evaluate the model on test data\n",
        "test_loss, test_accuracy = model.evaluate(x_test, y_test)\n",
        "print(\"Test Accuracy:\", test_accuracy)\n"
      ]
    },
    {
      "cell_type": "code",
      "execution_count": null,
      "id": "8a806483",
      "metadata": {
        "id": "8a806483"
      },
      "outputs": [],
      "source": []
    }
  ],
  "metadata": {
    "kernelspec": {
      "display_name": "Python 3 (ipykernel)",
      "language": "python",
      "name": "python3"
    },
    "language_info": {
      "codemirror_mode": {
        "name": "ipython",
        "version": 3
      },
      "file_extension": ".py",
      "mimetype": "text/x-python",
      "name": "python",
      "nbconvert_exporter": "python",
      "pygments_lexer": "ipython3",
      "version": "3.10.9"
    },
    "colab": {
      "provenance": [],
      "include_colab_link": true
    }
  },
  "nbformat": 4,
  "nbformat_minor": 5
}
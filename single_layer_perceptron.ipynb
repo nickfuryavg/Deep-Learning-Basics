{
  "cells": [
    {
      "cell_type": "markdown",
      "metadata": {
        "id": "view-in-github",
        "colab_type": "text"
      },
      "source": [
        "<a href=\"https://colab.research.google.com/github/nickfuryavg/Deep-Learning-Basics/blob/main/single_layer_perceptron.ipynb\" target=\"_parent\"><img src=\"https://colab.research.google.com/assets/colab-badge.svg\" alt=\"Open In Colab\"/></a>"
      ]
    },
    {
      "cell_type": "code",
      "execution_count": null,
      "id": "c656807a",
      "metadata": {
        "id": "c656807a",
        "outputId": "194f4d45-a65a-40d0-8ccd-c4f27fe473f5"
      },
      "outputs": [
        {
          "data": {
            "text/html": [
              "<div>\n",
              "<style scoped>\n",
              "    .dataframe tbody tr th:only-of-type {\n",
              "        vertical-align: middle;\n",
              "    }\n",
              "\n",
              "    .dataframe tbody tr th {\n",
              "        vertical-align: top;\n",
              "    }\n",
              "\n",
              "    .dataframe thead th {\n",
              "        text-align: right;\n",
              "    }\n",
              "</style>\n",
              "<table border=\"1\" class=\"dataframe\">\n",
              "  <thead>\n",
              "    <tr style=\"text-align: right;\">\n",
              "      <th></th>\n",
              "      <th>RowNumber</th>\n",
              "      <th>CustomerId</th>\n",
              "      <th>Surname</th>\n",
              "      <th>CreditScore</th>\n",
              "      <th>Geography</th>\n",
              "      <th>Gender</th>\n",
              "      <th>Age</th>\n",
              "      <th>Tenure</th>\n",
              "      <th>Balance</th>\n",
              "      <th>NumOfProducts</th>\n",
              "      <th>HasCrCard</th>\n",
              "      <th>IsActiveMember</th>\n",
              "      <th>EstimatedSalary</th>\n",
              "      <th>Exited</th>\n",
              "    </tr>\n",
              "  </thead>\n",
              "  <tbody>\n",
              "    <tr>\n",
              "      <th>0</th>\n",
              "      <td>1</td>\n",
              "      <td>15634602</td>\n",
              "      <td>Hargrave</td>\n",
              "      <td>619</td>\n",
              "      <td>France</td>\n",
              "      <td>Female</td>\n",
              "      <td>42</td>\n",
              "      <td>2</td>\n",
              "      <td>0.00</td>\n",
              "      <td>1</td>\n",
              "      <td>1</td>\n",
              "      <td>1</td>\n",
              "      <td>101348.88</td>\n",
              "      <td>1</td>\n",
              "    </tr>\n",
              "    <tr>\n",
              "      <th>1</th>\n",
              "      <td>2</td>\n",
              "      <td>15647311</td>\n",
              "      <td>Hill</td>\n",
              "      <td>608</td>\n",
              "      <td>Spain</td>\n",
              "      <td>Female</td>\n",
              "      <td>41</td>\n",
              "      <td>1</td>\n",
              "      <td>83807.86</td>\n",
              "      <td>1</td>\n",
              "      <td>0</td>\n",
              "      <td>1</td>\n",
              "      <td>112542.58</td>\n",
              "      <td>0</td>\n",
              "    </tr>\n",
              "    <tr>\n",
              "      <th>2</th>\n",
              "      <td>3</td>\n",
              "      <td>15619304</td>\n",
              "      <td>Onio</td>\n",
              "      <td>502</td>\n",
              "      <td>France</td>\n",
              "      <td>Female</td>\n",
              "      <td>42</td>\n",
              "      <td>8</td>\n",
              "      <td>159660.80</td>\n",
              "      <td>3</td>\n",
              "      <td>1</td>\n",
              "      <td>0</td>\n",
              "      <td>113931.57</td>\n",
              "      <td>1</td>\n",
              "    </tr>\n",
              "    <tr>\n",
              "      <th>3</th>\n",
              "      <td>4</td>\n",
              "      <td>15701354</td>\n",
              "      <td>Boni</td>\n",
              "      <td>699</td>\n",
              "      <td>France</td>\n",
              "      <td>Female</td>\n",
              "      <td>39</td>\n",
              "      <td>1</td>\n",
              "      <td>0.00</td>\n",
              "      <td>2</td>\n",
              "      <td>0</td>\n",
              "      <td>0</td>\n",
              "      <td>93826.63</td>\n",
              "      <td>0</td>\n",
              "    </tr>\n",
              "    <tr>\n",
              "      <th>4</th>\n",
              "      <td>5</td>\n",
              "      <td>15737888</td>\n",
              "      <td>Mitchell</td>\n",
              "      <td>850</td>\n",
              "      <td>Spain</td>\n",
              "      <td>Female</td>\n",
              "      <td>43</td>\n",
              "      <td>2</td>\n",
              "      <td>125510.82</td>\n",
              "      <td>1</td>\n",
              "      <td>1</td>\n",
              "      <td>1</td>\n",
              "      <td>79084.10</td>\n",
              "      <td>0</td>\n",
              "    </tr>\n",
              "  </tbody>\n",
              "</table>\n",
              "</div>"
            ],
            "text/plain": [
              "   RowNumber  CustomerId   Surname  CreditScore Geography  Gender  Age  \\\n",
              "0          1    15634602  Hargrave          619    France  Female   42   \n",
              "1          2    15647311      Hill          608     Spain  Female   41   \n",
              "2          3    15619304      Onio          502    France  Female   42   \n",
              "3          4    15701354      Boni          699    France  Female   39   \n",
              "4          5    15737888  Mitchell          850     Spain  Female   43   \n",
              "\n",
              "   Tenure    Balance  NumOfProducts  HasCrCard  IsActiveMember  \\\n",
              "0       2       0.00              1          1               1   \n",
              "1       1   83807.86              1          0               1   \n",
              "2       8  159660.80              3          1               0   \n",
              "3       1       0.00              2          0               0   \n",
              "4       2  125510.82              1          1               1   \n",
              "\n",
              "   EstimatedSalary  Exited  \n",
              "0        101348.88       1  \n",
              "1        112542.58       0  \n",
              "2        113931.57       1  \n",
              "3         93826.63       0  \n",
              "4         79084.10       0  "
            ]
          },
          "execution_count": 2,
          "metadata": {},
          "output_type": "execute_result"
        }
      ],
      "source": [
        "import pandas as pd\n",
        "import numpy as np\n",
        "import matplotlib.pyplot as plt\n",
        "df=pd.read_csv('Churn_Modelling.csv')\n",
        "df.head()"
      ]
    },
    {
      "cell_type": "code",
      "execution_count": null,
      "id": "449cb0bf",
      "metadata": {
        "id": "449cb0bf",
        "outputId": "c97a5f44-d0a4-459d-84d9-0ac90683ce12"
      },
      "outputs": [
        {
          "data": {
            "text/plain": [
              "(10000, 14)"
            ]
          },
          "execution_count": 4,
          "metadata": {},
          "output_type": "execute_result"
        }
      ],
      "source": [
        "df.shape"
      ]
    },
    {
      "cell_type": "code",
      "execution_count": null,
      "id": "5e207907",
      "metadata": {
        "id": "5e207907",
        "outputId": "7135e8d4-4e31-4db1-fd4b-19f59cca505c"
      },
      "outputs": [
        {
          "name": "stdout",
          "output_type": "stream",
          "text": [
            "<class 'pandas.core.frame.DataFrame'>\n",
            "RangeIndex: 10000 entries, 0 to 9999\n",
            "Data columns (total 14 columns):\n",
            " #   Column           Non-Null Count  Dtype  \n",
            "---  ------           --------------  -----  \n",
            " 0   RowNumber        10000 non-null  int64  \n",
            " 1   CustomerId       10000 non-null  int64  \n",
            " 2   Surname          10000 non-null  object \n",
            " 3   CreditScore      10000 non-null  int64  \n",
            " 4   Geography        10000 non-null  object \n",
            " 5   Gender           10000 non-null  object \n",
            " 6   Age              10000 non-null  int64  \n",
            " 7   Tenure           10000 non-null  int64  \n",
            " 8   Balance          10000 non-null  float64\n",
            " 9   NumOfProducts    10000 non-null  int64  \n",
            " 10  HasCrCard        10000 non-null  int64  \n",
            " 11  IsActiveMember   10000 non-null  int64  \n",
            " 12  EstimatedSalary  10000 non-null  float64\n",
            " 13  Exited           10000 non-null  int64  \n",
            "dtypes: float64(2), int64(9), object(3)\n",
            "memory usage: 1.1+ MB\n"
          ]
        }
      ],
      "source": [
        "df.info()"
      ]
    },
    {
      "cell_type": "code",
      "execution_count": null,
      "id": "7f3c67d6",
      "metadata": {
        "id": "7f3c67d6",
        "outputId": "a76232b1-19e3-4b74-ebd4-5e2a6a85ac88"
      },
      "outputs": [
        {
          "data": {
            "text/plain": [
              "0"
            ]
          },
          "execution_count": 7,
          "metadata": {},
          "output_type": "execute_result"
        }
      ],
      "source": [
        "df.duplicated().sum()"
      ]
    },
    {
      "cell_type": "code",
      "execution_count": null,
      "id": "8f7f44a4",
      "metadata": {
        "id": "8f7f44a4",
        "outputId": "b86a93cc-980c-41c6-e61d-13081a2db135"
      },
      "outputs": [
        {
          "data": {
            "text/plain": [
              "0    7963\n",
              "1    2037\n",
              "Name: Exited, dtype: int64"
            ]
          },
          "execution_count": 11,
          "metadata": {},
          "output_type": "execute_result"
        }
      ],
      "source": [
        "df['Exited'].value_counts()"
      ]
    },
    {
      "cell_type": "code",
      "execution_count": null,
      "id": "0aa3fed1",
      "metadata": {
        "id": "0aa3fed1",
        "outputId": "93e6c89d-b462-4afe-8487-c5bd995e11c8"
      },
      "outputs": [
        {
          "data": {
            "text/plain": [
              "France     5014\n",
              "Germany    2509\n",
              "Spain      2477\n",
              "Name: Geography, dtype: int64"
            ]
          },
          "execution_count": 12,
          "metadata": {},
          "output_type": "execute_result"
        }
      ],
      "source": [
        "df['Geography'].value_counts()"
      ]
    },
    {
      "cell_type": "code",
      "execution_count": null,
      "id": "ee6de5f4",
      "metadata": {
        "id": "ee6de5f4",
        "outputId": "0f9f0f46-3ebc-4472-ad3e-cbbca515bc31"
      },
      "outputs": [
        {
          "data": {
            "text/plain": [
              "Male      5457\n",
              "Female    4543\n",
              "Name: Gender, dtype: int64"
            ]
          },
          "execution_count": 13,
          "metadata": {},
          "output_type": "execute_result"
        }
      ],
      "source": [
        "df['Gender'].value_counts()"
      ]
    },
    {
      "cell_type": "code",
      "execution_count": null,
      "id": "efb16d37",
      "metadata": {
        "id": "efb16d37"
      },
      "outputs": [],
      "source": [
        "df.drop(columns=['RowNumber','CustomerId','Surname'],inplace=True)"
      ]
    },
    {
      "cell_type": "code",
      "execution_count": null,
      "id": "e8a5b1bf",
      "metadata": {
        "id": "e8a5b1bf",
        "outputId": "f6a28532-f0b1-44c4-8045-c12eb42f8d6a"
      },
      "outputs": [
        {
          "data": {
            "text/html": [
              "<div>\n",
              "<style scoped>\n",
              "    .dataframe tbody tr th:only-of-type {\n",
              "        vertical-align: middle;\n",
              "    }\n",
              "\n",
              "    .dataframe tbody tr th {\n",
              "        vertical-align: top;\n",
              "    }\n",
              "\n",
              "    .dataframe thead th {\n",
              "        text-align: right;\n",
              "    }\n",
              "</style>\n",
              "<table border=\"1\" class=\"dataframe\">\n",
              "  <thead>\n",
              "    <tr style=\"text-align: right;\">\n",
              "      <th></th>\n",
              "      <th>CreditScore</th>\n",
              "      <th>Geography</th>\n",
              "      <th>Gender</th>\n",
              "      <th>Age</th>\n",
              "      <th>Tenure</th>\n",
              "      <th>Balance</th>\n",
              "      <th>NumOfProducts</th>\n",
              "      <th>HasCrCard</th>\n",
              "      <th>IsActiveMember</th>\n",
              "      <th>EstimatedSalary</th>\n",
              "      <th>Exited</th>\n",
              "    </tr>\n",
              "  </thead>\n",
              "  <tbody>\n",
              "    <tr>\n",
              "      <th>0</th>\n",
              "      <td>619</td>\n",
              "      <td>France</td>\n",
              "      <td>Female</td>\n",
              "      <td>42</td>\n",
              "      <td>2</td>\n",
              "      <td>0.00</td>\n",
              "      <td>1</td>\n",
              "      <td>1</td>\n",
              "      <td>1</td>\n",
              "      <td>101348.88</td>\n",
              "      <td>1</td>\n",
              "    </tr>\n",
              "    <tr>\n",
              "      <th>1</th>\n",
              "      <td>608</td>\n",
              "      <td>Spain</td>\n",
              "      <td>Female</td>\n",
              "      <td>41</td>\n",
              "      <td>1</td>\n",
              "      <td>83807.86</td>\n",
              "      <td>1</td>\n",
              "      <td>0</td>\n",
              "      <td>1</td>\n",
              "      <td>112542.58</td>\n",
              "      <td>0</td>\n",
              "    </tr>\n",
              "    <tr>\n",
              "      <th>2</th>\n",
              "      <td>502</td>\n",
              "      <td>France</td>\n",
              "      <td>Female</td>\n",
              "      <td>42</td>\n",
              "      <td>8</td>\n",
              "      <td>159660.80</td>\n",
              "      <td>3</td>\n",
              "      <td>1</td>\n",
              "      <td>0</td>\n",
              "      <td>113931.57</td>\n",
              "      <td>1</td>\n",
              "    </tr>\n",
              "    <tr>\n",
              "      <th>3</th>\n",
              "      <td>699</td>\n",
              "      <td>France</td>\n",
              "      <td>Female</td>\n",
              "      <td>39</td>\n",
              "      <td>1</td>\n",
              "      <td>0.00</td>\n",
              "      <td>2</td>\n",
              "      <td>0</td>\n",
              "      <td>0</td>\n",
              "      <td>93826.63</td>\n",
              "      <td>0</td>\n",
              "    </tr>\n",
              "    <tr>\n",
              "      <th>4</th>\n",
              "      <td>850</td>\n",
              "      <td>Spain</td>\n",
              "      <td>Female</td>\n",
              "      <td>43</td>\n",
              "      <td>2</td>\n",
              "      <td>125510.82</td>\n",
              "      <td>1</td>\n",
              "      <td>1</td>\n",
              "      <td>1</td>\n",
              "      <td>79084.10</td>\n",
              "      <td>0</td>\n",
              "    </tr>\n",
              "  </tbody>\n",
              "</table>\n",
              "</div>"
            ],
            "text/plain": [
              "   CreditScore Geography  Gender  Age  Tenure    Balance  NumOfProducts  \\\n",
              "0          619    France  Female   42       2       0.00              1   \n",
              "1          608     Spain  Female   41       1   83807.86              1   \n",
              "2          502    France  Female   42       8  159660.80              3   \n",
              "3          699    France  Female   39       1       0.00              2   \n",
              "4          850     Spain  Female   43       2  125510.82              1   \n",
              "\n",
              "   HasCrCard  IsActiveMember  EstimatedSalary  Exited  \n",
              "0          1               1        101348.88       1  \n",
              "1          0               1        112542.58       0  \n",
              "2          1               0        113931.57       1  \n",
              "3          0               0         93826.63       0  \n",
              "4          1               1         79084.10       0  "
            ]
          },
          "execution_count": 17,
          "metadata": {},
          "output_type": "execute_result"
        }
      ],
      "source": [
        "df.head()"
      ]
    },
    {
      "cell_type": "code",
      "execution_count": null,
      "id": "2eb14748",
      "metadata": {
        "id": "2eb14748"
      },
      "outputs": [],
      "source": [
        "df=pd.get_dummies(df,columns=['Geography','Gender'],drop_first=True)"
      ]
    },
    {
      "cell_type": "code",
      "execution_count": null,
      "id": "e36e7c5f",
      "metadata": {
        "id": "e36e7c5f",
        "outputId": "058cced5-e454-434c-c521-508ecc8467d1"
      },
      "outputs": [
        {
          "data": {
            "text/html": [
              "<div>\n",
              "<style scoped>\n",
              "    .dataframe tbody tr th:only-of-type {\n",
              "        vertical-align: middle;\n",
              "    }\n",
              "\n",
              "    .dataframe tbody tr th {\n",
              "        vertical-align: top;\n",
              "    }\n",
              "\n",
              "    .dataframe thead th {\n",
              "        text-align: right;\n",
              "    }\n",
              "</style>\n",
              "<table border=\"1\" class=\"dataframe\">\n",
              "  <thead>\n",
              "    <tr style=\"text-align: right;\">\n",
              "      <th></th>\n",
              "      <th>CreditScore</th>\n",
              "      <th>Age</th>\n",
              "      <th>Tenure</th>\n",
              "      <th>Balance</th>\n",
              "      <th>NumOfProducts</th>\n",
              "      <th>HasCrCard</th>\n",
              "      <th>IsActiveMember</th>\n",
              "      <th>EstimatedSalary</th>\n",
              "      <th>Exited</th>\n",
              "      <th>Geography_Germany</th>\n",
              "      <th>Geography_Spain</th>\n",
              "      <th>Gender_Male</th>\n",
              "    </tr>\n",
              "  </thead>\n",
              "  <tbody>\n",
              "    <tr>\n",
              "      <th>0</th>\n",
              "      <td>619</td>\n",
              "      <td>42</td>\n",
              "      <td>2</td>\n",
              "      <td>0.00</td>\n",
              "      <td>1</td>\n",
              "      <td>1</td>\n",
              "      <td>1</td>\n",
              "      <td>101348.88</td>\n",
              "      <td>1</td>\n",
              "      <td>0</td>\n",
              "      <td>0</td>\n",
              "      <td>0</td>\n",
              "    </tr>\n",
              "    <tr>\n",
              "      <th>1</th>\n",
              "      <td>608</td>\n",
              "      <td>41</td>\n",
              "      <td>1</td>\n",
              "      <td>83807.86</td>\n",
              "      <td>1</td>\n",
              "      <td>0</td>\n",
              "      <td>1</td>\n",
              "      <td>112542.58</td>\n",
              "      <td>0</td>\n",
              "      <td>0</td>\n",
              "      <td>1</td>\n",
              "      <td>0</td>\n",
              "    </tr>\n",
              "    <tr>\n",
              "      <th>2</th>\n",
              "      <td>502</td>\n",
              "      <td>42</td>\n",
              "      <td>8</td>\n",
              "      <td>159660.80</td>\n",
              "      <td>3</td>\n",
              "      <td>1</td>\n",
              "      <td>0</td>\n",
              "      <td>113931.57</td>\n",
              "      <td>1</td>\n",
              "      <td>0</td>\n",
              "      <td>0</td>\n",
              "      <td>0</td>\n",
              "    </tr>\n",
              "    <tr>\n",
              "      <th>3</th>\n",
              "      <td>699</td>\n",
              "      <td>39</td>\n",
              "      <td>1</td>\n",
              "      <td>0.00</td>\n",
              "      <td>2</td>\n",
              "      <td>0</td>\n",
              "      <td>0</td>\n",
              "      <td>93826.63</td>\n",
              "      <td>0</td>\n",
              "      <td>0</td>\n",
              "      <td>0</td>\n",
              "      <td>0</td>\n",
              "    </tr>\n",
              "    <tr>\n",
              "      <th>4</th>\n",
              "      <td>850</td>\n",
              "      <td>43</td>\n",
              "      <td>2</td>\n",
              "      <td>125510.82</td>\n",
              "      <td>1</td>\n",
              "      <td>1</td>\n",
              "      <td>1</td>\n",
              "      <td>79084.10</td>\n",
              "      <td>0</td>\n",
              "      <td>0</td>\n",
              "      <td>1</td>\n",
              "      <td>0</td>\n",
              "    </tr>\n",
              "    <tr>\n",
              "      <th>...</th>\n",
              "      <td>...</td>\n",
              "      <td>...</td>\n",
              "      <td>...</td>\n",
              "      <td>...</td>\n",
              "      <td>...</td>\n",
              "      <td>...</td>\n",
              "      <td>...</td>\n",
              "      <td>...</td>\n",
              "      <td>...</td>\n",
              "      <td>...</td>\n",
              "      <td>...</td>\n",
              "      <td>...</td>\n",
              "    </tr>\n",
              "    <tr>\n",
              "      <th>9995</th>\n",
              "      <td>771</td>\n",
              "      <td>39</td>\n",
              "      <td>5</td>\n",
              "      <td>0.00</td>\n",
              "      <td>2</td>\n",
              "      <td>1</td>\n",
              "      <td>0</td>\n",
              "      <td>96270.64</td>\n",
              "      <td>0</td>\n",
              "      <td>0</td>\n",
              "      <td>0</td>\n",
              "      <td>1</td>\n",
              "    </tr>\n",
              "    <tr>\n",
              "      <th>9996</th>\n",
              "      <td>516</td>\n",
              "      <td>35</td>\n",
              "      <td>10</td>\n",
              "      <td>57369.61</td>\n",
              "      <td>1</td>\n",
              "      <td>1</td>\n",
              "      <td>1</td>\n",
              "      <td>101699.77</td>\n",
              "      <td>0</td>\n",
              "      <td>0</td>\n",
              "      <td>0</td>\n",
              "      <td>1</td>\n",
              "    </tr>\n",
              "    <tr>\n",
              "      <th>9997</th>\n",
              "      <td>709</td>\n",
              "      <td>36</td>\n",
              "      <td>7</td>\n",
              "      <td>0.00</td>\n",
              "      <td>1</td>\n",
              "      <td>0</td>\n",
              "      <td>1</td>\n",
              "      <td>42085.58</td>\n",
              "      <td>1</td>\n",
              "      <td>0</td>\n",
              "      <td>0</td>\n",
              "      <td>0</td>\n",
              "    </tr>\n",
              "    <tr>\n",
              "      <th>9998</th>\n",
              "      <td>772</td>\n",
              "      <td>42</td>\n",
              "      <td>3</td>\n",
              "      <td>75075.31</td>\n",
              "      <td>2</td>\n",
              "      <td>1</td>\n",
              "      <td>0</td>\n",
              "      <td>92888.52</td>\n",
              "      <td>1</td>\n",
              "      <td>1</td>\n",
              "      <td>0</td>\n",
              "      <td>1</td>\n",
              "    </tr>\n",
              "    <tr>\n",
              "      <th>9999</th>\n",
              "      <td>792</td>\n",
              "      <td>28</td>\n",
              "      <td>4</td>\n",
              "      <td>130142.79</td>\n",
              "      <td>1</td>\n",
              "      <td>1</td>\n",
              "      <td>0</td>\n",
              "      <td>38190.78</td>\n",
              "      <td>0</td>\n",
              "      <td>0</td>\n",
              "      <td>0</td>\n",
              "      <td>0</td>\n",
              "    </tr>\n",
              "  </tbody>\n",
              "</table>\n",
              "<p>10000 rows × 12 columns</p>\n",
              "</div>"
            ],
            "text/plain": [
              "      CreditScore  Age  Tenure    Balance  NumOfProducts  HasCrCard  \\\n",
              "0             619   42       2       0.00              1          1   \n",
              "1             608   41       1   83807.86              1          0   \n",
              "2             502   42       8  159660.80              3          1   \n",
              "3             699   39       1       0.00              2          0   \n",
              "4             850   43       2  125510.82              1          1   \n",
              "...           ...  ...     ...        ...            ...        ...   \n",
              "9995          771   39       5       0.00              2          1   \n",
              "9996          516   35      10   57369.61              1          1   \n",
              "9997          709   36       7       0.00              1          0   \n",
              "9998          772   42       3   75075.31              2          1   \n",
              "9999          792   28       4  130142.79              1          1   \n",
              "\n",
              "      IsActiveMember  EstimatedSalary  Exited  Geography_Germany  \\\n",
              "0                  1        101348.88       1                  0   \n",
              "1                  1        112542.58       0                  0   \n",
              "2                  0        113931.57       1                  0   \n",
              "3                  0         93826.63       0                  0   \n",
              "4                  1         79084.10       0                  0   \n",
              "...              ...              ...     ...                ...   \n",
              "9995               0         96270.64       0                  0   \n",
              "9996               1        101699.77       0                  0   \n",
              "9997               1         42085.58       1                  0   \n",
              "9998               0         92888.52       1                  1   \n",
              "9999               0         38190.78       0                  0   \n",
              "\n",
              "      Geography_Spain  Gender_Male  \n",
              "0                   0            0  \n",
              "1                   1            0  \n",
              "2                   0            0  \n",
              "3                   0            0  \n",
              "4                   1            0  \n",
              "...               ...          ...  \n",
              "9995                0            1  \n",
              "9996                0            1  \n",
              "9997                0            0  \n",
              "9998                0            1  \n",
              "9999                0            0  \n",
              "\n",
              "[10000 rows x 12 columns]"
            ]
          },
          "execution_count": 20,
          "metadata": {},
          "output_type": "execute_result"
        }
      ],
      "source": [
        "df"
      ]
    },
    {
      "cell_type": "code",
      "execution_count": null,
      "id": "ae06541c",
      "metadata": {
        "id": "ae06541c"
      },
      "outputs": [],
      "source": [
        "X = df.drop(columns=['Exited'])\n",
        "y = df['Exited'].values\n",
        "\n",
        "from sklearn.model_selection import train_test_split\n",
        "X_train,X_test,y_train,y_test = train_test_split(X,y,test_size=0.2,random_state=0)\n"
      ]
    },
    {
      "cell_type": "code",
      "execution_count": null,
      "id": "dba94e26",
      "metadata": {
        "id": "dba94e26",
        "outputId": "37752e3b-9ea7-4d04-f2e5-2b17624cffa6"
      },
      "outputs": [
        {
          "data": {
            "text/html": [
              "<div>\n",
              "<style scoped>\n",
              "    .dataframe tbody tr th:only-of-type {\n",
              "        vertical-align: middle;\n",
              "    }\n",
              "\n",
              "    .dataframe tbody tr th {\n",
              "        vertical-align: top;\n",
              "    }\n",
              "\n",
              "    .dataframe thead th {\n",
              "        text-align: right;\n",
              "    }\n",
              "</style>\n",
              "<table border=\"1\" class=\"dataframe\">\n",
              "  <thead>\n",
              "    <tr style=\"text-align: right;\">\n",
              "      <th></th>\n",
              "      <th>CreditScore</th>\n",
              "      <th>Age</th>\n",
              "      <th>Tenure</th>\n",
              "      <th>Balance</th>\n",
              "      <th>NumOfProducts</th>\n",
              "      <th>HasCrCard</th>\n",
              "      <th>IsActiveMember</th>\n",
              "      <th>EstimatedSalary</th>\n",
              "      <th>Geography_Germany</th>\n",
              "      <th>Geography_Spain</th>\n",
              "      <th>Gender_Male</th>\n",
              "    </tr>\n",
              "  </thead>\n",
              "  <tbody>\n",
              "    <tr>\n",
              "      <th>0</th>\n",
              "      <td>619</td>\n",
              "      <td>42</td>\n",
              "      <td>2</td>\n",
              "      <td>0.00</td>\n",
              "      <td>1</td>\n",
              "      <td>1</td>\n",
              "      <td>1</td>\n",
              "      <td>101348.88</td>\n",
              "      <td>0</td>\n",
              "      <td>0</td>\n",
              "      <td>0</td>\n",
              "    </tr>\n",
              "    <tr>\n",
              "      <th>1</th>\n",
              "      <td>608</td>\n",
              "      <td>41</td>\n",
              "      <td>1</td>\n",
              "      <td>83807.86</td>\n",
              "      <td>1</td>\n",
              "      <td>0</td>\n",
              "      <td>1</td>\n",
              "      <td>112542.58</td>\n",
              "      <td>0</td>\n",
              "      <td>1</td>\n",
              "      <td>0</td>\n",
              "    </tr>\n",
              "    <tr>\n",
              "      <th>2</th>\n",
              "      <td>502</td>\n",
              "      <td>42</td>\n",
              "      <td>8</td>\n",
              "      <td>159660.80</td>\n",
              "      <td>3</td>\n",
              "      <td>1</td>\n",
              "      <td>0</td>\n",
              "      <td>113931.57</td>\n",
              "      <td>0</td>\n",
              "      <td>0</td>\n",
              "      <td>0</td>\n",
              "    </tr>\n",
              "    <tr>\n",
              "      <th>3</th>\n",
              "      <td>699</td>\n",
              "      <td>39</td>\n",
              "      <td>1</td>\n",
              "      <td>0.00</td>\n",
              "      <td>2</td>\n",
              "      <td>0</td>\n",
              "      <td>0</td>\n",
              "      <td>93826.63</td>\n",
              "      <td>0</td>\n",
              "      <td>0</td>\n",
              "      <td>0</td>\n",
              "    </tr>\n",
              "    <tr>\n",
              "      <th>4</th>\n",
              "      <td>850</td>\n",
              "      <td>43</td>\n",
              "      <td>2</td>\n",
              "      <td>125510.82</td>\n",
              "      <td>1</td>\n",
              "      <td>1</td>\n",
              "      <td>1</td>\n",
              "      <td>79084.10</td>\n",
              "      <td>0</td>\n",
              "      <td>1</td>\n",
              "      <td>0</td>\n",
              "    </tr>\n",
              "    <tr>\n",
              "      <th>...</th>\n",
              "      <td>...</td>\n",
              "      <td>...</td>\n",
              "      <td>...</td>\n",
              "      <td>...</td>\n",
              "      <td>...</td>\n",
              "      <td>...</td>\n",
              "      <td>...</td>\n",
              "      <td>...</td>\n",
              "      <td>...</td>\n",
              "      <td>...</td>\n",
              "      <td>...</td>\n",
              "    </tr>\n",
              "    <tr>\n",
              "      <th>9995</th>\n",
              "      <td>771</td>\n",
              "      <td>39</td>\n",
              "      <td>5</td>\n",
              "      <td>0.00</td>\n",
              "      <td>2</td>\n",
              "      <td>1</td>\n",
              "      <td>0</td>\n",
              "      <td>96270.64</td>\n",
              "      <td>0</td>\n",
              "      <td>0</td>\n",
              "      <td>1</td>\n",
              "    </tr>\n",
              "    <tr>\n",
              "      <th>9996</th>\n",
              "      <td>516</td>\n",
              "      <td>35</td>\n",
              "      <td>10</td>\n",
              "      <td>57369.61</td>\n",
              "      <td>1</td>\n",
              "      <td>1</td>\n",
              "      <td>1</td>\n",
              "      <td>101699.77</td>\n",
              "      <td>0</td>\n",
              "      <td>0</td>\n",
              "      <td>1</td>\n",
              "    </tr>\n",
              "    <tr>\n",
              "      <th>9997</th>\n",
              "      <td>709</td>\n",
              "      <td>36</td>\n",
              "      <td>7</td>\n",
              "      <td>0.00</td>\n",
              "      <td>1</td>\n",
              "      <td>0</td>\n",
              "      <td>1</td>\n",
              "      <td>42085.58</td>\n",
              "      <td>0</td>\n",
              "      <td>0</td>\n",
              "      <td>0</td>\n",
              "    </tr>\n",
              "    <tr>\n",
              "      <th>9998</th>\n",
              "      <td>772</td>\n",
              "      <td>42</td>\n",
              "      <td>3</td>\n",
              "      <td>75075.31</td>\n",
              "      <td>2</td>\n",
              "      <td>1</td>\n",
              "      <td>0</td>\n",
              "      <td>92888.52</td>\n",
              "      <td>1</td>\n",
              "      <td>0</td>\n",
              "      <td>1</td>\n",
              "    </tr>\n",
              "    <tr>\n",
              "      <th>9999</th>\n",
              "      <td>792</td>\n",
              "      <td>28</td>\n",
              "      <td>4</td>\n",
              "      <td>130142.79</td>\n",
              "      <td>1</td>\n",
              "      <td>1</td>\n",
              "      <td>0</td>\n",
              "      <td>38190.78</td>\n",
              "      <td>0</td>\n",
              "      <td>0</td>\n",
              "      <td>0</td>\n",
              "    </tr>\n",
              "  </tbody>\n",
              "</table>\n",
              "<p>10000 rows × 11 columns</p>\n",
              "</div>"
            ],
            "text/plain": [
              "      CreditScore  Age  Tenure    Balance  NumOfProducts  HasCrCard  \\\n",
              "0             619   42       2       0.00              1          1   \n",
              "1             608   41       1   83807.86              1          0   \n",
              "2             502   42       8  159660.80              3          1   \n",
              "3             699   39       1       0.00              2          0   \n",
              "4             850   43       2  125510.82              1          1   \n",
              "...           ...  ...     ...        ...            ...        ...   \n",
              "9995          771   39       5       0.00              2          1   \n",
              "9996          516   35      10   57369.61              1          1   \n",
              "9997          709   36       7       0.00              1          0   \n",
              "9998          772   42       3   75075.31              2          1   \n",
              "9999          792   28       4  130142.79              1          1   \n",
              "\n",
              "      IsActiveMember  EstimatedSalary  Geography_Germany  Geography_Spain  \\\n",
              "0                  1        101348.88                  0                0   \n",
              "1                  1        112542.58                  0                1   \n",
              "2                  0        113931.57                  0                0   \n",
              "3                  0         93826.63                  0                0   \n",
              "4                  1         79084.10                  0                1   \n",
              "...              ...              ...                ...              ...   \n",
              "9995               0         96270.64                  0                0   \n",
              "9996               1        101699.77                  0                0   \n",
              "9997               1         42085.58                  0                0   \n",
              "9998               0         92888.52                  1                0   \n",
              "9999               0         38190.78                  0                0   \n",
              "\n",
              "      Gender_Male  \n",
              "0               0  \n",
              "1               0  \n",
              "2               0  \n",
              "3               0  \n",
              "4               0  \n",
              "...           ...  \n",
              "9995            1  \n",
              "9996            1  \n",
              "9997            0  \n",
              "9998            1  \n",
              "9999            0  \n",
              "\n",
              "[10000 rows x 11 columns]"
            ]
          },
          "execution_count": 23,
          "metadata": {},
          "output_type": "execute_result"
        }
      ],
      "source": [
        "X"
      ]
    },
    {
      "cell_type": "code",
      "execution_count": null,
      "id": "f2ecf23d",
      "metadata": {
        "id": "f2ecf23d",
        "outputId": "2470b747-3287-44dd-810f-7d029875429a"
      },
      "outputs": [
        {
          "data": {
            "text/plain": [
              "array([1, 0, 1, ..., 1, 1, 0])"
            ]
          },
          "execution_count": 24,
          "metadata": {},
          "output_type": "execute_result"
        }
      ],
      "source": [
        "y"
      ]
    },
    {
      "cell_type": "code",
      "execution_count": null,
      "id": "10ffe210",
      "metadata": {
        "id": "10ffe210",
        "outputId": "3183714d-c7ee-4c13-8590-719f3e6f311a"
      },
      "outputs": [
        {
          "data": {
            "text/plain": [
              "(2000, 11)"
            ]
          },
          "execution_count": 26,
          "metadata": {},
          "output_type": "execute_result"
        }
      ],
      "source": [
        "X_test.shape"
      ]
    },
    {
      "cell_type": "code",
      "execution_count": null,
      "id": "855843f7",
      "metadata": {
        "id": "855843f7",
        "outputId": "716564eb-ec15-4a9d-d3b8-3bb176c81ee9"
      },
      "outputs": [
        {
          "data": {
            "text/plain": [
              "(8000, 11)"
            ]
          },
          "execution_count": 27,
          "metadata": {},
          "output_type": "execute_result"
        }
      ],
      "source": [
        "X_train.shape"
      ]
    },
    {
      "cell_type": "code",
      "execution_count": null,
      "id": "ffcd40c7",
      "metadata": {
        "id": "ffcd40c7"
      },
      "outputs": [],
      "source": [
        "from sklearn.preprocessing import StandardScaler\n",
        "scaler = StandardScaler()\n",
        "\n",
        "X_train_scaled  = scaler.fit_transform(X_train)\n",
        "X_test_scaled = scaler.transform(X_test)"
      ]
    },
    {
      "cell_type": "code",
      "execution_count": null,
      "id": "09a982a1",
      "metadata": {
        "id": "09a982a1",
        "outputId": "5caf8609-7ad4-4c18-866c-380a523bc3b6"
      },
      "outputs": [
        {
          "data": {
            "text/plain": [
              "array([[-0.55204276, -0.36890377,  1.04473698, ...,  1.75486502,\n",
              "        -0.57369368, -1.09168714],\n",
              "       [-1.31490297,  0.10961719, -1.031415  , ..., -0.5698444 ,\n",
              "        -0.57369368, -1.09168714],\n",
              "       [ 0.57162971,  0.30102557,  1.04473698, ..., -0.5698444 ,\n",
              "         1.74309049, -1.09168714],\n",
              "       ...,\n",
              "       [-0.74791227, -0.27319958, -1.37744033, ..., -0.5698444 ,\n",
              "         1.74309049,  0.91601335],\n",
              "       [-0.00566991, -0.46460796, -0.33936434, ...,  1.75486502,\n",
              "        -0.57369368,  0.91601335],\n",
              "       [-0.79945688, -0.84742473,  1.04473698, ...,  1.75486502,\n",
              "        -0.57369368,  0.91601335]])"
            ]
          },
          "execution_count": 29,
          "metadata": {},
          "output_type": "execute_result"
        }
      ],
      "source": [
        "X_test_scaled"
      ]
    },
    {
      "cell_type": "code",
      "execution_count": null,
      "id": "d4a76172",
      "metadata": {
        "id": "d4a76172",
        "outputId": "903bff10-f47c-4b7a-fec5-512bac52dcb1"
      },
      "outputs": [
        {
          "data": {
            "text/plain": [
              "array([[ 0.16958176, -0.46460796,  0.00666099, ..., -0.5698444 ,\n",
              "         1.74309049, -1.09168714],\n",
              "       [-2.30455945,  0.30102557, -1.37744033, ...,  1.75486502,\n",
              "        -0.57369368,  0.91601335],\n",
              "       [-1.19119591, -0.94312892, -1.031415  , ..., -0.5698444 ,\n",
              "        -0.57369368, -1.09168714],\n",
              "       ...,\n",
              "       [ 0.9015152 , -0.36890377,  0.00666099, ..., -0.5698444 ,\n",
              "        -0.57369368,  0.91601335],\n",
              "       [-0.62420521, -0.08179119,  1.39076231, ..., -0.5698444 ,\n",
              "         1.74309049, -1.09168714],\n",
              "       [-0.28401079,  0.87525072, -1.37744033, ...,  1.75486502,\n",
              "        -0.57369368, -1.09168714]])"
            ]
          },
          "execution_count": 30,
          "metadata": {},
          "output_type": "execute_result"
        }
      ],
      "source": [
        "X_train_scaled"
      ]
    },
    {
      "cell_type": "code",
      "execution_count": null,
      "id": "fb57464c",
      "metadata": {
        "id": "fb57464c"
      },
      "outputs": [],
      "source": [
        "import tensorflow\n",
        "from tensorflow import keras\n",
        "from tensorflow.keras import Sequential\n",
        "from tensorflow.keras.layers import Dense"
      ]
    },
    {
      "cell_type": "code",
      "execution_count": null,
      "id": "9639e6d9",
      "metadata": {
        "id": "9639e6d9"
      },
      "outputs": [],
      "source": [
        "model = Sequential()#\n",
        "\n",
        "## this is used to create the hidden layer 3- hidden layer node , input_dim=11 <--- how many inputs are we geting\n",
        "model.add(Dense(3,activation='sigmoid',input_dim=11))\n",
        "\n",
        "\n",
        "\n",
        "## this is used to create the output layer as it has only one output node\n",
        "model.add(Dense(1,activation='sigmoid'))"
      ]
    },
    {
      "cell_type": "markdown",
      "id": "3889722c",
      "metadata": {
        "id": "3889722c"
      },
      "source": [
        "## Input--hidden layer       11(input column) X 3(niode in hidden layer) +3 (bias) + 3(output from hidden layer) X 1(output node)+1 (bias)"
      ]
    },
    {
      "cell_type": "code",
      "execution_count": null,
      "id": "f144d3e0",
      "metadata": {
        "id": "f144d3e0",
        "outputId": "98c30d0d-56e0-495d-c48c-5eae7efeabd9"
      },
      "outputs": [
        {
          "name": "stdout",
          "output_type": "stream",
          "text": [
            "Model: \"sequential_1\"\n",
            "_________________________________________________________________\n",
            " Layer (type)                Output Shape              Param #   \n",
            "=================================================================\n",
            " dense_2 (Dense)             (None, 3)                 36        \n",
            "                                                                 \n",
            " dense_3 (Dense)             (None, 1)                 4         \n",
            "                                                                 \n",
            "=================================================================\n",
            "Total params: 40 (160.00 Byte)\n",
            "Trainable params: 40 (160.00 Byte)\n",
            "Non-trainable params: 0 (0.00 Byte)\n",
            "_________________________________________________________________\n"
          ]
        }
      ],
      "source": [
        "model.summary()"
      ]
    },
    {
      "cell_type": "code",
      "execution_count": null,
      "id": "a02364d6",
      "metadata": {
        "id": "a02364d6"
      },
      "outputs": [],
      "source": [
        "## compilation we will use optmizer \"Adam\" for gradient descent and loss function used is \" log loss or binary crossentropy\"\n",
        "\n",
        "\n",
        "model.compile(optimizer='Adam',loss='binary_crossentropy')"
      ]
    },
    {
      "cell_type": "code",
      "execution_count": null,
      "id": "77fe8fb5",
      "metadata": {
        "id": "77fe8fb5",
        "outputId": "e34cd85a-e4c8-468a-f36c-d57392e0cce9"
      },
      "outputs": [
        {
          "name": "stdout",
          "output_type": "stream",
          "text": [
            "Epoch 1/200\n",
            "250/250 [==============================] - 0s 308us/step - loss: 0.3480\n",
            "Epoch 2/200\n",
            "250/250 [==============================] - 0s 262us/step - loss: 0.3479\n",
            "Epoch 3/200\n",
            "250/250 [==============================] - 0s 254us/step - loss: 0.3478\n",
            "Epoch 4/200\n",
            "250/250 [==============================] - 0s 250us/step - loss: 0.3478\n",
            "Epoch 5/200\n",
            "250/250 [==============================] - 0s 251us/step - loss: 0.3477\n",
            "Epoch 6/200\n",
            "250/250 [==============================] - 0s 250us/step - loss: 0.3477\n",
            "Epoch 7/200\n",
            "250/250 [==============================] - 0s 298us/step - loss: 0.3477\n",
            "Epoch 8/200\n",
            "250/250 [==============================] - 0s 251us/step - loss: 0.3476\n",
            "Epoch 9/200\n",
            "250/250 [==============================] - 0s 250us/step - loss: 0.3476\n",
            "Epoch 10/200\n",
            "250/250 [==============================] - 0s 249us/step - loss: 0.3475\n",
            "Epoch 11/200\n",
            "250/250 [==============================] - 0s 249us/step - loss: 0.3476\n",
            "Epoch 12/200\n",
            "250/250 [==============================] - 0s 250us/step - loss: 0.3474\n",
            "Epoch 13/200\n",
            "250/250 [==============================] - 0s 249us/step - loss: 0.3474\n",
            "Epoch 14/200\n",
            "250/250 [==============================] - 0s 251us/step - loss: 0.3473\n",
            "Epoch 15/200\n",
            "250/250 [==============================] - 0s 248us/step - loss: 0.3473\n",
            "Epoch 16/200\n",
            "250/250 [==============================] - 0s 249us/step - loss: 0.3472\n",
            "Epoch 17/200\n",
            "250/250 [==============================] - 0s 257us/step - loss: 0.3472\n",
            "Epoch 18/200\n",
            "250/250 [==============================] - 0s 250us/step - loss: 0.3473\n",
            "Epoch 19/200\n",
            "250/250 [==============================] - 0s 254us/step - loss: 0.3471\n",
            "Epoch 20/200\n",
            "250/250 [==============================] - 0s 255us/step - loss: 0.3471\n",
            "Epoch 21/200\n",
            "250/250 [==============================] - 0s 256us/step - loss: 0.3471\n",
            "Epoch 22/200\n",
            "250/250 [==============================] - 0s 249us/step - loss: 0.3470\n",
            "Epoch 23/200\n",
            "250/250 [==============================] - 0s 252us/step - loss: 0.3470\n",
            "Epoch 24/200\n",
            "250/250 [==============================] - 0s 249us/step - loss: 0.3469\n",
            "Epoch 25/200\n",
            "250/250 [==============================] - 0s 254us/step - loss: 0.3469\n",
            "Epoch 26/200\n",
            "250/250 [==============================] - 0s 256us/step - loss: 0.3468\n",
            "Epoch 27/200\n",
            "250/250 [==============================] - 0s 250us/step - loss: 0.3468\n",
            "Epoch 28/200\n",
            "250/250 [==============================] - 0s 248us/step - loss: 0.3467\n",
            "Epoch 29/200\n",
            "250/250 [==============================] - 0s 256us/step - loss: 0.3468\n",
            "Epoch 30/200\n",
            "250/250 [==============================] - 0s 249us/step - loss: 0.3467\n",
            "Epoch 31/200\n",
            "250/250 [==============================] - 0s 249us/step - loss: 0.3467\n",
            "Epoch 32/200\n",
            "250/250 [==============================] - 0s 249us/step - loss: 0.3467\n",
            "Epoch 33/200\n",
            "250/250 [==============================] - 0s 248us/step - loss: 0.3466\n",
            "Epoch 34/200\n",
            "250/250 [==============================] - 0s 249us/step - loss: 0.3465\n",
            "Epoch 35/200\n",
            "250/250 [==============================] - 0s 249us/step - loss: 0.3466\n",
            "Epoch 36/200\n",
            "250/250 [==============================] - 0s 249us/step - loss: 0.3465\n",
            "Epoch 37/200\n",
            "250/250 [==============================] - 0s 255us/step - loss: 0.3465\n",
            "Epoch 38/200\n",
            "250/250 [==============================] - 0s 305us/step - loss: 0.3465\n",
            "Epoch 39/200\n",
            "250/250 [==============================] - 0s 262us/step - loss: 0.3465\n",
            "Epoch 40/200\n",
            "250/250 [==============================] - 0s 260us/step - loss: 0.3464\n",
            "Epoch 41/200\n",
            "250/250 [==============================] - 0s 249us/step - loss: 0.3465\n",
            "Epoch 42/200\n",
            "250/250 [==============================] - 0s 248us/step - loss: 0.3464\n",
            "Epoch 43/200\n",
            "250/250 [==============================] - 0s 248us/step - loss: 0.3463\n",
            "Epoch 44/200\n",
            "250/250 [==============================] - 0s 246us/step - loss: 0.3464\n",
            "Epoch 45/200\n",
            "250/250 [==============================] - 0s 250us/step - loss: 0.3463\n",
            "Epoch 46/200\n",
            "250/250 [==============================] - 0s 258us/step - loss: 0.3463\n",
            "Epoch 47/200\n",
            "250/250 [==============================] - 0s 255us/step - loss: 0.3462\n",
            "Epoch 48/200\n",
            "250/250 [==============================] - 0s 251us/step - loss: 0.3462\n",
            "Epoch 49/200\n",
            "250/250 [==============================] - 0s 255us/step - loss: 0.3462\n",
            "Epoch 50/200\n",
            "250/250 [==============================] - 0s 248us/step - loss: 0.3462\n",
            "Epoch 51/200\n",
            "250/250 [==============================] - 0s 250us/step - loss: 0.3463\n",
            "Epoch 52/200\n",
            "250/250 [==============================] - 0s 254us/step - loss: 0.3461\n",
            "Epoch 53/200\n",
            "250/250 [==============================] - 0s 258us/step - loss: 0.3461\n",
            "Epoch 54/200\n",
            "250/250 [==============================] - 0s 254us/step - loss: 0.3461\n",
            "Epoch 55/200\n",
            "250/250 [==============================] - 0s 249us/step - loss: 0.3461\n",
            "Epoch 56/200\n",
            "250/250 [==============================] - 0s 253us/step - loss: 0.3461\n",
            "Epoch 57/200\n",
            "250/250 [==============================] - 0s 256us/step - loss: 0.3460\n",
            "Epoch 58/200\n",
            "250/250 [==============================] - 0s 295us/step - loss: 0.3461\n",
            "Epoch 59/200\n",
            "250/250 [==============================] - 0s 256us/step - loss: 0.3460\n",
            "Epoch 60/200\n",
            "250/250 [==============================] - 0s 250us/step - loss: 0.3460\n",
            "Epoch 61/200\n",
            "250/250 [==============================] - 0s 254us/step - loss: 0.3460\n",
            "Epoch 62/200\n",
            "250/250 [==============================] - 0s 251us/step - loss: 0.3460\n",
            "Epoch 63/200\n",
            "250/250 [==============================] - 0s 247us/step - loss: 0.3459\n",
            "Epoch 64/200\n",
            "250/250 [==============================] - 0s 250us/step - loss: 0.3459\n",
            "Epoch 65/200\n",
            "250/250 [==============================] - 0s 249us/step - loss: 0.3458\n",
            "Epoch 66/200\n",
            "250/250 [==============================] - 0s 250us/step - loss: 0.3458\n",
            "Epoch 67/200\n",
            "250/250 [==============================] - 0s 256us/step - loss: 0.3458\n",
            "Epoch 68/200\n",
            "250/250 [==============================] - 0s 248us/step - loss: 0.3458\n",
            "Epoch 69/200\n",
            "250/250 [==============================] - 0s 252us/step - loss: 0.3458\n",
            "Epoch 70/200\n",
            "250/250 [==============================] - 0s 249us/step - loss: 0.3458\n",
            "Epoch 71/200\n",
            "250/250 [==============================] - 0s 253us/step - loss: 0.3457\n",
            "Epoch 72/200\n",
            "250/250 [==============================] - 0s 257us/step - loss: 0.3458\n",
            "Epoch 73/200\n",
            "250/250 [==============================] - 0s 250us/step - loss: 0.3457\n",
            "Epoch 74/200\n",
            "250/250 [==============================] - 0s 254us/step - loss: 0.3457\n",
            "Epoch 75/200\n",
            "250/250 [==============================] - 0s 255us/step - loss: 0.3457\n",
            "Epoch 76/200\n",
            "250/250 [==============================] - 0s 251us/step - loss: 0.3456\n",
            "Epoch 77/200\n",
            "250/250 [==============================] - 0s 252us/step - loss: 0.3457\n",
            "Epoch 78/200\n",
            "250/250 [==============================] - 0s 251us/step - loss: 0.3457\n",
            "Epoch 79/200\n",
            "250/250 [==============================] - 0s 296us/step - loss: 0.3456\n",
            "Epoch 80/200\n",
            "250/250 [==============================] - 0s 263us/step - loss: 0.3457\n",
            "Epoch 81/200\n",
            "250/250 [==============================] - 0s 261us/step - loss: 0.3456\n",
            "Epoch 82/200\n",
            "250/250 [==============================] - 0s 256us/step - loss: 0.3455\n",
            "Epoch 83/200\n",
            "250/250 [==============================] - 0s 248us/step - loss: 0.3456\n",
            "Epoch 84/200\n",
            "250/250 [==============================] - 0s 255us/step - loss: 0.3455\n",
            "Epoch 85/200\n",
            "250/250 [==============================] - 0s 258us/step - loss: 0.3456\n",
            "Epoch 86/200\n",
            "250/250 [==============================] - 0s 255us/step - loss: 0.3456\n",
            "Epoch 87/200\n",
            "250/250 [==============================] - 0s 258us/step - loss: 0.3455\n",
            "Epoch 88/200\n",
            "250/250 [==============================] - 0s 249us/step - loss: 0.3455\n",
            "Epoch 89/200\n",
            "250/250 [==============================] - 0s 254us/step - loss: 0.3454\n",
            "Epoch 90/200\n",
            "250/250 [==============================] - 0s 256us/step - loss: 0.3455\n",
            "Epoch 91/200\n",
            "250/250 [==============================] - 0s 252us/step - loss: 0.3455\n",
            "Epoch 92/200\n",
            "250/250 [==============================] - 0s 258us/step - loss: 0.3454\n",
            "Epoch 93/200\n",
            "250/250 [==============================] - 0s 258us/step - loss: 0.3455\n",
            "Epoch 94/200\n",
            "250/250 [==============================] - 0s 249us/step - loss: 0.3454\n",
            "Epoch 95/200\n",
            "250/250 [==============================] - 0s 252us/step - loss: 0.3454\n",
            "Epoch 96/200\n",
            "250/250 [==============================] - 0s 249us/step - loss: 0.3454\n",
            "Epoch 97/200\n",
            "250/250 [==============================] - 0s 251us/step - loss: 0.3453\n",
            "Epoch 98/200\n",
            "250/250 [==============================] - 0s 299us/step - loss: 0.3454\n",
            "Epoch 99/200\n",
            "250/250 [==============================] - 0s 253us/step - loss: 0.3453\n",
            "Epoch 100/200\n",
            "250/250 [==============================] - 0s 250us/step - loss: 0.3453\n",
            "Epoch 101/200\n",
            "250/250 [==============================] - 0s 251us/step - loss: 0.3453\n",
            "Epoch 102/200\n",
            "250/250 [==============================] - 0s 251us/step - loss: 0.3453\n",
            "Epoch 103/200\n",
            "250/250 [==============================] - 0s 253us/step - loss: 0.3453\n",
            "Epoch 104/200\n",
            "250/250 [==============================] - 0s 251us/step - loss: 0.3453\n",
            "Epoch 105/200\n",
            "250/250 [==============================] - 0s 249us/step - loss: 0.3453\n",
            "Epoch 106/200\n",
            "250/250 [==============================] - 0s 252us/step - loss: 0.3452\n",
            "Epoch 107/200\n",
            "250/250 [==============================] - 0s 249us/step - loss: 0.3452\n",
            "Epoch 108/200\n",
            "250/250 [==============================] - 0s 249us/step - loss: 0.3454\n",
            "Epoch 109/200\n",
            "250/250 [==============================] - 0s 249us/step - loss: 0.3452\n",
            "Epoch 110/200\n",
            "250/250 [==============================] - 0s 251us/step - loss: 0.3451\n",
            "Epoch 111/200\n",
            "250/250 [==============================] - 0s 250us/step - loss: 0.3454\n",
            "Epoch 112/200\n",
            "250/250 [==============================] - 0s 252us/step - loss: 0.3451\n",
            "Epoch 113/200\n",
            "250/250 [==============================] - 0s 249us/step - loss: 0.3451\n",
            "Epoch 114/200\n",
            "250/250 [==============================] - 0s 249us/step - loss: 0.3452\n",
            "Epoch 115/200\n",
            "250/250 [==============================] - 0s 249us/step - loss: 0.3451\n",
            "Epoch 116/200\n",
            "250/250 [==============================] - 0s 250us/step - loss: 0.3451\n",
            "Epoch 117/200\n",
            "250/250 [==============================] - 0s 250us/step - loss: 0.3451\n",
            "Epoch 118/200\n",
            "250/250 [==============================] - 0s 249us/step - loss: 0.3451\n",
            "Epoch 119/200\n",
            "250/250 [==============================] - 0s 247us/step - loss: 0.3451\n",
            "Epoch 120/200\n",
            "250/250 [==============================] - 0s 250us/step - loss: 0.3450\n",
            "Epoch 121/200\n",
            "250/250 [==============================] - 0s 250us/step - loss: 0.3451\n",
            "Epoch 122/200\n",
            "250/250 [==============================] - 0s 249us/step - loss: 0.3451\n",
            "Epoch 123/200\n",
            "250/250 [==============================] - 0s 249us/step - loss: 0.3451\n",
            "Epoch 124/200\n",
            "250/250 [==============================] - 0s 249us/step - loss: 0.3450\n",
            "Epoch 125/200\n",
            "250/250 [==============================] - 0s 248us/step - loss: 0.3451\n",
            "Epoch 126/200\n",
            "250/250 [==============================] - 0s 249us/step - loss: 0.3450\n",
            "Epoch 127/200\n",
            "250/250 [==============================] - 0s 249us/step - loss: 0.3451\n",
            "Epoch 128/200\n",
            "250/250 [==============================] - 0s 249us/step - loss: 0.3450\n",
            "Epoch 129/200\n",
            "250/250 [==============================] - 0s 249us/step - loss: 0.3450\n",
            "Epoch 130/200\n",
            "250/250 [==============================] - 0s 248us/step - loss: 0.3450\n",
            "Epoch 131/200\n",
            "250/250 [==============================] - 0s 248us/step - loss: 0.3450\n",
            "Epoch 132/200\n",
            "250/250 [==============================] - 0s 250us/step - loss: 0.3449\n",
            "Epoch 133/200\n",
            "250/250 [==============================] - 0s 248us/step - loss: 0.3450\n",
            "Epoch 134/200\n",
            "250/250 [==============================] - 0s 249us/step - loss: 0.3450\n",
            "Epoch 135/200\n",
            "250/250 [==============================] - 0s 249us/step - loss: 0.3449\n",
            "Epoch 136/200\n",
            "250/250 [==============================] - 0s 250us/step - loss: 0.3450\n",
            "Epoch 137/200\n",
            "250/250 [==============================] - 0s 248us/step - loss: 0.3449\n",
            "Epoch 138/200\n",
            "250/250 [==============================] - 0s 247us/step - loss: 0.3449\n",
            "Epoch 139/200\n",
            "250/250 [==============================] - 0s 249us/step - loss: 0.3449\n",
            "Epoch 140/200\n",
            "250/250 [==============================] - 0s 249us/step - loss: 0.3450\n",
            "Epoch 141/200\n",
            "250/250 [==============================] - 0s 252us/step - loss: 0.3449\n",
            "Epoch 142/200\n",
            "250/250 [==============================] - 0s 250us/step - loss: 0.3449\n",
            "Epoch 143/200\n",
            "250/250 [==============================] - 0s 248us/step - loss: 0.3448\n",
            "Epoch 144/200\n",
            "250/250 [==============================] - 0s 250us/step - loss: 0.3449\n",
            "Epoch 145/200\n",
            "250/250 [==============================] - 0s 250us/step - loss: 0.3448\n",
            "Epoch 146/200\n",
            "250/250 [==============================] - 0s 250us/step - loss: 0.3449\n",
            "Epoch 147/200\n",
            "250/250 [==============================] - 0s 251us/step - loss: 0.3448\n",
            "Epoch 148/200\n",
            "250/250 [==============================] - 0s 250us/step - loss: 0.3448\n",
            "Epoch 149/200\n",
            "250/250 [==============================] - 0s 250us/step - loss: 0.3448\n",
            "Epoch 150/200\n",
            "250/250 [==============================] - 0s 248us/step - loss: 0.3448\n",
            "Epoch 151/200\n",
            "250/250 [==============================] - 0s 251us/step - loss: 0.3447\n",
            "Epoch 152/200\n",
            "250/250 [==============================] - 0s 254us/step - loss: 0.3448\n",
            "Epoch 153/200\n",
            "250/250 [==============================] - 0s 250us/step - loss: 0.3447\n",
            "Epoch 154/200\n",
            "250/250 [==============================] - 0s 296us/step - loss: 0.3447\n",
            "Epoch 155/200\n",
            "250/250 [==============================] - 0s 253us/step - loss: 0.3448\n",
            "Epoch 156/200\n",
            "250/250 [==============================] - 0s 265us/step - loss: 0.3448\n",
            "Epoch 157/200\n",
            "250/250 [==============================] - 0s 280us/step - loss: 0.3447\n",
            "Epoch 158/200\n",
            "250/250 [==============================] - 0s 304us/step - loss: 0.3447\n",
            "Epoch 159/200\n",
            "250/250 [==============================] - 0s 292us/step - loss: 0.3447\n",
            "Epoch 160/200\n",
            "250/250 [==============================] - 0s 320us/step - loss: 0.3447\n",
            "Epoch 161/200\n",
            "250/250 [==============================] - 0s 281us/step - loss: 0.3447\n",
            "Epoch 162/200\n",
            "250/250 [==============================] - 0s 273us/step - loss: 0.3447\n",
            "Epoch 163/200\n",
            "250/250 [==============================] - 0s 284us/step - loss: 0.3447\n",
            "Epoch 164/200\n",
            "250/250 [==============================] - 0s 265us/step - loss: 0.3448\n",
            "Epoch 165/200\n",
            "250/250 [==============================] - 0s 262us/step - loss: 0.3447\n",
            "Epoch 166/200\n",
            "250/250 [==============================] - 0s 269us/step - loss: 0.3446\n",
            "Epoch 167/200\n",
            "250/250 [==============================] - 0s 250us/step - loss: 0.3446\n",
            "Epoch 168/200\n",
            "250/250 [==============================] - 0s 253us/step - loss: 0.3446\n",
            "Epoch 169/200\n",
            "250/250 [==============================] - 0s 256us/step - loss: 0.3446\n",
            "Epoch 170/200\n",
            "250/250 [==============================] - 0s 252us/step - loss: 0.3447\n",
            "Epoch 171/200\n",
            "250/250 [==============================] - 0s 256us/step - loss: 0.3445\n",
            "Epoch 172/200\n",
            "250/250 [==============================] - 0s 250us/step - loss: 0.3446\n",
            "Epoch 173/200\n",
            "250/250 [==============================] - 0s 251us/step - loss: 0.3446\n",
            "Epoch 174/200\n",
            "250/250 [==============================] - 0s 249us/step - loss: 0.3446\n",
            "Epoch 175/200\n",
            "250/250 [==============================] - 0s 295us/step - loss: 0.3446\n",
            "Epoch 176/200\n",
            "250/250 [==============================] - 0s 256us/step - loss: 0.3446\n",
            "Epoch 177/200\n",
            "250/250 [==============================] - 0s 255us/step - loss: 0.3446\n",
            "Epoch 178/200\n",
            "250/250 [==============================] - 0s 250us/step - loss: 0.3446\n",
            "Epoch 179/200\n",
            "250/250 [==============================] - 0s 256us/step - loss: 0.3445\n",
            "Epoch 180/200\n",
            "250/250 [==============================] - 0s 250us/step - loss: 0.3446\n",
            "Epoch 181/200\n",
            "250/250 [==============================] - 0s 260us/step - loss: 0.3446\n",
            "Epoch 182/200\n",
            "250/250 [==============================] - 0s 257us/step - loss: 0.3445\n",
            "Epoch 183/200\n",
            "250/250 [==============================] - 0s 252us/step - loss: 0.3445\n",
            "Epoch 184/200\n",
            "250/250 [==============================] - 0s 254us/step - loss: 0.3445\n",
            "Epoch 185/200\n",
            "250/250 [==============================] - 0s 249us/step - loss: 0.3445\n",
            "Epoch 186/200\n",
            "250/250 [==============================] - 0s 257us/step - loss: 0.3445\n",
            "Epoch 187/200\n",
            "250/250 [==============================] - 0s 259us/step - loss: 0.3445\n",
            "Epoch 188/200\n",
            "250/250 [==============================] - 0s 251us/step - loss: 0.3445\n",
            "Epoch 189/200\n",
            "250/250 [==============================] - 0s 255us/step - loss: 0.3444\n",
            "Epoch 190/200\n",
            "250/250 [==============================] - 0s 248us/step - loss: 0.3445\n",
            "Epoch 191/200\n",
            "250/250 [==============================] - 0s 251us/step - loss: 0.3445\n",
            "Epoch 192/200\n",
            "250/250 [==============================] - 0s 251us/step - loss: 0.3445\n",
            "Epoch 193/200\n",
            "250/250 [==============================] - 0s 250us/step - loss: 0.3445\n",
            "Epoch 194/200\n",
            "250/250 [==============================] - 0s 253us/step - loss: 0.3444\n",
            "Epoch 195/200\n",
            "250/250 [==============================] - 0s 251us/step - loss: 0.3444\n",
            "Epoch 196/200\n",
            "250/250 [==============================] - 0s 252us/step - loss: 0.3444\n",
            "Epoch 197/200\n",
            "250/250 [==============================] - 0s 251us/step - loss: 0.3444\n",
            "Epoch 198/200\n",
            "250/250 [==============================] - 0s 250us/step - loss: 0.3444\n",
            "Epoch 199/200\n",
            "250/250 [==============================] - 0s 251us/step - loss: 0.3444\n",
            "Epoch 200/200\n",
            "250/250 [==============================] - 0s 251us/step - loss: 0.3443\n"
          ]
        },
        {
          "data": {
            "text/plain": [
              "<keras.src.callbacks.History at 0x3083bf4c0>"
            ]
          },
          "execution_count": 42,
          "metadata": {},
          "output_type": "execute_result"
        }
      ],
      "source": [
        "model.fit(X_train_scaled,y_train,epochs=200)"
      ]
    },
    {
      "cell_type": "code",
      "execution_count": null,
      "id": "04014340",
      "metadata": {
        "id": "04014340",
        "outputId": "b1a15d3a-8b68-48ea-dea9-f3cc14ab5cbb"
      },
      "outputs": [
        {
          "data": {
            "text/plain": [
              "[array([[-8.9671507e-02, -1.3159996e-02,  1.4742644e-02],\n",
              "        [ 1.6279649e+00,  1.9033986e-01,  1.4915597e+00],\n",
              "        [-2.1814085e-04,  4.5243222e-02,  2.6696631e-01],\n",
              "        [-3.8238174e-01, -1.0697130e+00,  1.7806783e-01],\n",
              "        [ 7.4381739e-01, -1.8921283e+00,  5.4532681e+00],\n",
              "        [ 2.8095203e-03,  2.3882013e-02,  1.1364754e-01],\n",
              "        [ 2.3163361e-02,  4.3155974e-01,  1.6283171e+00],\n",
              "        [-3.0967047e-02, -5.1908966e-02, -8.4509410e-02],\n",
              "        [ 4.7839630e-01,  3.1096533e-01, -1.6249675e-01],\n",
              "        [ 9.1810822e-02, -1.6855220e-01,  3.8272089e-01],\n",
              "        [-1.9884941e-01,  1.8391420e-01,  4.6046916e-02]], dtype=float32),\n",
              " array([-0.02135673,  2.7395735 ,  1.0376157 ], dtype=float32)]"
            ]
          },
          "execution_count": 45,
          "metadata": {},
          "output_type": "execute_result"
        }
      ],
      "source": [
        "weights_first_layer = model.layers[0].get_weights()\n",
        "weights_first_layer"
      ]
    },
    {
      "cell_type": "code",
      "execution_count": null,
      "id": "93b6cbb7",
      "metadata": {
        "id": "93b6cbb7",
        "outputId": "d94e22e5-436f-42c1-eb1b-1983a91112fb"
      },
      "outputs": [
        {
          "data": {
            "text/plain": [
              "[array([[ 5.324121 ],\n",
              "        [-5.0356693],\n",
              "        [-4.5748987]], dtype=float32),\n",
              " array([2.2603974], dtype=float32)]"
            ]
          },
          "execution_count": 46,
          "metadata": {},
          "output_type": "execute_result"
        }
      ],
      "source": [
        "weights_first_layer1 = model.layers[1].get_weights()\n",
        "weights_first_layer1"
      ]
    },
    {
      "cell_type": "code",
      "execution_count": null,
      "id": "ed959158",
      "metadata": {
        "id": "ed959158",
        "outputId": "1d7807f2-0d7f-44c2-a548-a37682ab7dc7"
      },
      "outputs": [
        {
          "name": "stdout",
          "output_type": "stream",
          "text": [
            "63/63 [==============================] - 0s 253us/step\n"
          ]
        },
        {
          "data": {
            "text/plain": [
              "array([[0.26313496],\n",
              "       [0.2968387 ],\n",
              "       [0.14596201],\n",
              "       ...,\n",
              "       [0.15607946],\n",
              "       [0.16094908],\n",
              "       [0.12885155]], dtype=float32)"
            ]
          },
          "execution_count": 48,
          "metadata": {},
          "output_type": "execute_result"
        }
      ],
      "source": [
        "model.predict(X_test_scaled)"
      ]
    },
    {
      "cell_type": "code",
      "execution_count": null,
      "id": "81002df2",
      "metadata": {
        "id": "81002df2",
        "outputId": "46aded86-7f21-41ba-f273-4b16bf0bef19"
      },
      "outputs": [
        {
          "name": "stdout",
          "output_type": "stream",
          "text": [
            "63/63 [==============================] - 0s 362us/step\n"
          ]
        }
      ],
      "source": [
        "import numpy as np\n",
        "\n",
        "# Assuming model is already trained and X_test_scaled is prepared\n",
        "predictions = (model.predict(X_test_scaled) > 0.5).astype(int)"
      ]
    },
    {
      "cell_type": "code",
      "execution_count": null,
      "id": "c9e71d75",
      "metadata": {
        "id": "c9e71d75",
        "outputId": "122dedcd-2f73-4a6c-f00e-5f14ee5c6c34"
      },
      "outputs": [
        {
          "data": {
            "text/plain": [
              "array([[0],\n",
              "       [0],\n",
              "       [0],\n",
              "       ...,\n",
              "       [0],\n",
              "       [0],\n",
              "       [0]])"
            ]
          },
          "execution_count": 56,
          "metadata": {},
          "output_type": "execute_result"
        }
      ],
      "source": [
        "y_pred=predictions\n",
        "y_pred"
      ]
    },
    {
      "cell_type": "code",
      "execution_count": null,
      "id": "ce8022f8",
      "metadata": {
        "id": "ce8022f8",
        "outputId": "6d83bc8c-1e7b-4058-e7e4-03a240e7f9d6"
      },
      "outputs": [
        {
          "data": {
            "text/plain": [
              "0.8555"
            ]
          },
          "execution_count": 57,
          "metadata": {},
          "output_type": "execute_result"
        }
      ],
      "source": [
        "from sklearn.metrics import accuracy_score\n",
        "accuracy_score(y_test,y_pred)"
      ]
    },
    {
      "cell_type": "code",
      "execution_count": null,
      "id": "b68e1bf2",
      "metadata": {
        "id": "b68e1bf2"
      },
      "outputs": [],
      "source": []
    }
  ],
  "metadata": {
    "kernelspec": {
      "display_name": "Python 3 (ipykernel)",
      "language": "python",
      "name": "python3"
    },
    "language_info": {
      "codemirror_mode": {
        "name": "ipython",
        "version": 3
      },
      "file_extension": ".py",
      "mimetype": "text/x-python",
      "name": "python",
      "nbconvert_exporter": "python",
      "pygments_lexer": "ipython3",
      "version": "3.10.9"
    },
    "colab": {
      "provenance": [],
      "include_colab_link": true
    }
  },
  "nbformat": 4,
  "nbformat_minor": 5
}